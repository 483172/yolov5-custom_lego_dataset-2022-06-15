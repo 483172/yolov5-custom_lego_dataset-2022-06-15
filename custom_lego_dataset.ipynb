{
  "cells": [
    {
      "cell_type": "markdown",
      "metadata": {
        "id": "t6MPjfT5NrKQ"
      },
      "source": [
        "<a align=\"left\" href=\"https://ultralytics.com/yolov5\" target=\"_blank\">\n",
        "<img width=\"1024\", src=\"https://user-images.githubusercontent.com/26833433/125273437-35b3fc00-e30d-11eb-9079-46f313325424.png\"></a>\n",
        "\n",
        "This custom Jupyter Notebook has been used in Google Colab (https://colab.research.google.com/) and is used to run all of the commands and acces all of the files necessary to train a YOLOv5 model on our custom lego dataset. \n",
        "\n",
        "Only this file and acces to my personal Google Drive is necessary to run everything. The rest of the data is gathered from my personal GitHub.\n",
        "\n",
        "At the end we will be able to detect and distinguish the following lego bricks: \n",
        "\n",
        "    brick 2x4,\n",
        "    plate 2x2,\n",
        "    plate 1x2,\n",
        "    plate 2x4,\n",
        "    brick 1x6 &\n",
        "    brick 2x2\n",
        "\n",
        "Disclaimer: This custom Jupyter Notebook has been based on the **official YOLOv5 🚀 notebook** by **Ultralytics**, and is freely available for redistribution under the [GPL-3.0 license](https://choosealicense.com/licenses/gpl-3.0/). \n",
        "For more information please visit https://github.com/ultralytics/yolov5 and https://ultralytics.com. Thank you!"
      ]
    },
    {
      "cell_type": "markdown",
      "metadata": {
        "id": "7mGmQbAO5pQb"
      },
      "source": [
        "# Setup\n",
        "\n",
        "The YOLOv5 model, custom configuration files and custom test files are stored on my personal GitHub. We will clone the repository, define our default directory, install the needed dependencies and check PyTorch and the GPU."
      ]
    },
    {
      "cell_type": "code",
      "execution_count": null,
      "metadata": {
        "colab": {
          "base_uri": "https://localhost:8080/"
        },
        "id": "wbvMlHd_QwMG",
        "outputId": "093c11a9-7cb4-4bbb-dfb9-490121587974"
      },
      "outputs": [
        {
          "name": "stderr",
          "output_type": "stream",
          "text": [
            "YOLOv5 🚀 6298e96 Python-3.7.13 torch-1.11.0+cu113 CUDA:0 (Tesla T4, 15110MiB)\n"
          ]
        },
        {
          "name": "stdout",
          "output_type": "stream",
          "text": [
            "Setup complete ✅ (2 CPUs, 12.7 GB RAM, 38.9/78.2 GB disk)\n"
          ]
        }
      ],
      "source": [
        "# Clone GitHub repository\n",
        "!git clone https://github.com/483172/yolov5-custom_lego_dataset-2022-06-15\n",
        "# Define default directory\n",
        "%cd yolov5-custom_lego_dataset-2022-06-15\n",
        "# Install all necessary dependencies\n",
        "%pip install -qr requirements.txt\n",
        "\n",
        "# Check PyTorch\n",
        "import torch\n",
        "# Check the GPU\n",
        "import utils\n",
        "display = utils.notebook_init()"
      ]
    },
    {
      "cell_type": "markdown",
      "metadata": {
        "id": "y4-1tJHtfCRa"
      },
      "source": [
        "The custom lego dataset is stored on my personal Google Drive. To be able to acces and use it for training, we need to attach the drive.\n",
        "\n",
        "Note: Only needed for the specified training."
      ]
    },
    {
      "cell_type": "code",
      "execution_count": null,
      "metadata": {
        "colab": {
          "base_uri": "https://localhost:8080/"
        },
        "id": "s6Aq8x-zfCRb",
        "outputId": "3917eac9-8b98-4a33-bcec-32bab538148b"
      },
      "outputs": [
        {
          "name": "stdout",
          "output_type": "stream",
          "text": [
            "Mounted at /content/drive\n"
          ]
        }
      ],
      "source": [
        "# Attach dataset directory  (optional)\n",
        "from google.colab import drive\n",
        "drive.mount('/content/drive')"
      ]
    },
    {
      "cell_type": "markdown",
      "metadata": {
        "id": "8AKdZgtVfCRb"
      },
      "source": [
        "# Train\n",
        "\n",
        "<p align=\"\"><a href=\"\"><img width=\"1000\" src=\"https://uploads-ssl.webflow.com/5f6bc60e665f54545a1e52a5/615627e5824c9c6195abfda9_computer-vision-cycle.png\"/></a></p>\n",
        "\n",
        "Note: Monotoring our training run can be done with the help of Tensorbard or Weights & Biases. Both of them dont create any information that can't be found, but help with an easy overview."
      ]
    },
    {
      "cell_type": "code",
      "execution_count": null,
      "metadata": {
        "id": "dUgPcgJXfCRb"
      },
      "outputs": [],
      "source": [
        "# Tensorboard  (optional)\n",
        "%load_ext tensorboard\n",
        "%tensorboard --logdir runs/train"
      ]
    },
    {
      "cell_type": "code",
      "execution_count": null,
      "metadata": {
        "colab": {
          "base_uri": "https://localhost:8080/",
          "height": 156
        },
        "id": "tTTEaryFfCRc",
        "outputId": "533fa11d-e62a-471d-a3b0-206bb7e845bb"
      },
      "outputs": [
        {
          "name": "stdout",
          "output_type": "stream",
          "text": [
            "\u001b[K     |████████████████████████████████| 1.8 MB 27.0 MB/s \n",
            "\u001b[K     |████████████████████████████████| 145 kB 68.3 MB/s \n",
            "\u001b[K     |████████████████████████████████| 181 kB 54.0 MB/s \n",
            "\u001b[K     |████████████████████████████████| 63 kB 1.7 MB/s \n",
            "\u001b[?25h  Building wheel for pathtools (setup.py) ... \u001b[?25l\u001b[?25hdone\n"
          ]
        },
        {
          "data": {
            "application/javascript": "\n        window._wandbApiKey = new Promise((resolve, reject) => {\n            function loadScript(url) {\n            return new Promise(function(resolve, reject) {\n                let newScript = document.createElement(\"script\");\n                newScript.onerror = reject;\n                newScript.onload = resolve;\n                document.body.appendChild(newScript);\n                newScript.src = url;\n            });\n            }\n            loadScript(\"https://cdn.jsdelivr.net/npm/postmate/build/postmate.min.js\").then(() => {\n            const iframe = document.createElement('iframe')\n            iframe.style.cssText = \"width:0;height:0;border:none\"\n            document.body.appendChild(iframe)\n            const handshake = new Postmate({\n                container: iframe,\n                url: 'https://wandb.ai/authorize'\n            });\n            const timeout = setTimeout(() => reject(\"Couldn't auto authenticate\"), 5000)\n            handshake.then(function(child) {\n                child.on('authorize', data => {\n                    clearTimeout(timeout)\n                    resolve(data)\n                });\n            });\n            })\n        });\n    ",
            "text/plain": [
              "<IPython.core.display.Javascript object>"
            ]
          },
          "metadata": {},
          "output_type": "display_data"
        },
        {
          "name": "stderr",
          "output_type": "stream",
          "text": [
            "\u001b[34m\u001b[1mwandb\u001b[0m: Appending key for api.wandb.ai to your netrc file: /root/.netrc\n"
          ]
        },
        {
          "data": {
            "text/plain": [
              "True"
            ]
          },
          "execution_count": 3,
          "metadata": {},
          "output_type": "execute_result"
        }
      ],
      "source": [
        "# Weights & Biases  (optional)\n",
        "%pip install -q wandb\n",
        "import wandb\n",
        "wandb.login()"
      ]
    },
    {
      "cell_type": "markdown",
      "metadata": {
        "id": "vEDoZOjvfCRc"
      },
      "source": [
        "Now we will train our custom YOLOv5 model. We will use the pretrained YOLOv5m model as a starting point for our training and train it with the custom lego dataset (the most recent version of the pretrained YOLOv5m model is automatically downloaded from GitHub). <- **Pretrained [Models](https://github.com/ultralytics/yolov5/tree/master/models)** are downloaded automatically from the [latest YOLOv5 release](https://github.com/ultralytics/yolov5/releases)\n",
        "\n",
        "We will run a total of 16 images each batch and 50 epochs in total to train our custom YOLOv5 model (create our 'weights' file). <- **Training Results** are saved to `runs/train/` with incrementing run directories, i.e. `runs/train/exp2`, `runs/train/exp3` etc.\n",
        "\n",
        "Note: These parameters have been based on multiple runs and a GitHub refrence: https://github.com/ultralytics/yolov5/issues/6507"
      ]
    },
    {
      "cell_type": "code",
      "execution_count": null,
      "metadata": {
        "colab": {
          "base_uri": "https://localhost:8080/"
        },
        "id": "JObG_7l4fCRc",
        "outputId": "c4b72309-94a9-4972-dba6-240cd36d5465"
      },
      "outputs": [
        {
          "name": "stdout",
          "output_type": "stream",
          "text": [
            "\u001b[34m\u001b[1mwandb\u001b[0m: Currently logged in as: \u001b[33m483172\u001b[0m. Use \u001b[1m`wandb login --relogin`\u001b[0m to force relogin\n",
            "\u001b[34m\u001b[1mtrain: \u001b[0mweights=yolov5m.pt, cfg=, data=custom_lego_dataset.yaml, hyp=data/hyps/hyp.scratch-low.yaml, epochs=50, batch_size=16, imgsz=640, rect=False, resume=False, nosave=False, noval=False, noautoanchor=False, noplots=False, evolve=None, bucket=, cache=ram, image_weights=False, device=, multi_scale=False, single_cls=False, optimizer=SGD, sync_bn=False, workers=8, project=runs/train, name=exp, exist_ok=False, quad=False, cos_lr=False, label_smoothing=0.0, patience=100, freeze=[0], save_period=-1, local_rank=-1, entity=None, upload_dataset=False, bbox_interval=-1, artifact_alias=latest\n",
            "fatal: ambiguous argument 'main..origin/master': unknown revision or path not in the working tree.\n",
            "Use '--' to separate paths from revisions, like this:\n",
            "'git <command> [<revision>...] -- [<file>...]'\n",
            "Command 'git rev-list main..origin/master --count' returned non-zero exit status 128.\n",
            "YOLOv5 🚀 6298e96 Python-3.7.13 torch-1.11.0+cu113 CUDA:0 (Tesla T4, 15110MiB)\n",
            "\n",
            "\u001b[34m\u001b[1mhyperparameters: \u001b[0mlr0=0.01, lrf=0.01, momentum=0.937, weight_decay=0.0005, warmup_epochs=3.0, warmup_momentum=0.8, warmup_bias_lr=0.1, box=0.05, cls=0.5, cls_pw=1.0, obj=1.0, obj_pw=1.0, iou_t=0.2, anchor_t=4.0, fl_gamma=0.0, hsv_h=0.015, hsv_s=0.7, hsv_v=0.4, degrees=0.0, translate=0.1, scale=0.5, shear=0.0, perspective=0.0, flipud=0.0, fliplr=0.5, mosaic=1.0, mixup=0.0, copy_paste=0.0\n",
            "\u001b[34m\u001b[1mTensorBoard: \u001b[0mStart with 'tensorboard --logdir runs/train', view at http://localhost:6006/\n",
            "\u001b[34m\u001b[1mwandb\u001b[0m: Tracking run with wandb version 0.12.18\n",
            "\u001b[34m\u001b[1mwandb\u001b[0m: Run data is saved locally in \u001b[35m\u001b[1m/content/yolov5-custom_lego_dataset-2022-06-15/wandb/run-20220616_214844-1n5idh1b\u001b[0m\n",
            "\u001b[34m\u001b[1mwandb\u001b[0m: Run \u001b[1m`wandb offline`\u001b[0m to turn off syncing.\n",
            "\u001b[34m\u001b[1mwandb\u001b[0m: Syncing run \u001b[33mglorious-sea-8\u001b[0m\n",
            "\u001b[34m\u001b[1mwandb\u001b[0m: ⭐️ View project at \u001b[34m\u001b[4mhttps://wandb.ai/483172/YOLOv5\u001b[0m\n",
            "\u001b[34m\u001b[1mwandb\u001b[0m: 🚀 View run at \u001b[34m\u001b[4mhttps://wandb.ai/483172/YOLOv5/runs/1n5idh1b\u001b[0m\n",
            "Downloading https://ultralytics.com/assets/Arial.ttf to /root/.config/Ultralytics/Arial.ttf...\n",
            "100% 755k/755k [00:00<00:00, 116MB/s]\n",
            "YOLOv5 temporarily requires wandb version 0.12.10 or below. Some features may not work as expected.\n",
            "Downloading https://github.com/ultralytics/yolov5/releases/download/v6.1/yolov5m.pt to yolov5m.pt...\n",
            "100% 40.8M/40.8M [00:03<00:00, 12.6MB/s]\n",
            "\n",
            "Overriding model.yaml nc=80 with nc=6\n",
            "\n",
            "                 from  n    params  module                                  arguments                     \n",
            "  0                -1  1      5280  models.common.Conv                      [3, 48, 6, 2, 2]              \n",
            "  1                -1  1     41664  models.common.Conv                      [48, 96, 3, 2]                \n",
            "  2                -1  2     65280  models.common.C3                        [96, 96, 2]                   \n",
            "  3                -1  1    166272  models.common.Conv                      [96, 192, 3, 2]               \n",
            "  4                -1  4    444672  models.common.C3                        [192, 192, 4]                 \n",
            "  5                -1  1    664320  models.common.Conv                      [192, 384, 3, 2]              \n",
            "  6                -1  6   2512896  models.common.C3                        [384, 384, 6]                 \n",
            "  7                -1  1   2655744  models.common.Conv                      [384, 768, 3, 2]              \n",
            "  8                -1  2   4134912  models.common.C3                        [768, 768, 2]                 \n",
            "  9                -1  1   1476864  models.common.SPPF                      [768, 768, 5]                 \n",
            " 10                -1  1    295680  models.common.Conv                      [768, 384, 1, 1]              \n",
            " 11                -1  1         0  torch.nn.modules.upsampling.Upsample    [None, 2, 'nearest']          \n",
            " 12           [-1, 6]  1         0  models.common.Concat                    [1]                           \n",
            " 13                -1  2   1182720  models.common.C3                        [768, 384, 2, False]          \n",
            " 14                -1  1     74112  models.common.Conv                      [384, 192, 1, 1]              \n",
            " 15                -1  1         0  torch.nn.modules.upsampling.Upsample    [None, 2, 'nearest']          \n",
            " 16           [-1, 4]  1         0  models.common.Concat                    [1]                           \n",
            " 17                -1  2    296448  models.common.C3                        [384, 192, 2, False]          \n",
            " 18                -1  1    332160  models.common.Conv                      [192, 192, 3, 2]              \n",
            " 19          [-1, 14]  1         0  models.common.Concat                    [1]                           \n",
            " 20                -1  2   1035264  models.common.C3                        [384, 384, 2, False]          \n",
            " 21                -1  1   1327872  models.common.Conv                      [384, 384, 3, 2]              \n",
            " 22          [-1, 10]  1         0  models.common.Concat                    [1]                           \n",
            " 23                -1  2   4134912  models.common.C3                        [768, 768, 2, False]          \n",
            " 24      [17, 20, 23]  1     44451  models.yolo.Detect                      [6, [[10, 13, 16, 30, 33, 23], [30, 61, 62, 45, 59, 119], [116, 90, 156, 198, 373, 326]], [192, 384, 768]]\n",
            "Model summary: 369 layers, 20891523 parameters, 20891523 gradients\n",
            "\n",
            "Transferred 475/481 items from yolov5m.pt\n",
            "\u001b[34m\u001b[1mAMP: \u001b[0mchecks passed ✅\n",
            "Scaled weight_decay = 0.0005\n",
            "\u001b[34m\u001b[1moptimizer:\u001b[0m SGD with parameter groups 79 weight (no decay), 82 weight, 82 bias\n",
            "\u001b[34m\u001b[1malbumentations: \u001b[0mversion 1.0.3 required by YOLOv5, but version 0.1.12 is currently installed\n",
            "\u001b[34m\u001b[1mtrain: \u001b[0mScanning '/content/yolov5-custom_lego_dataset-2022-06-15/../drive/MyDrive/School/Saxion/Leerjaar 3/Machine Learning/Eindopdracht/lego_dataset/train_data/train.cache' images and labels... 2500 found, 0 missing, 15 empty, 1 corrupt: 100% 2500/2500 [00:00<?, ?it/s]\n",
            "\u001b[34m\u001b[1mtrain: \u001b[0mWARNING: /content/yolov5-custom_lego_dataset-2022-06-15/../drive/MyDrive/School/Saxion/Leerjaar 3/Machine Learning/Eindopdracht/lego_dataset/train_data/train/01547.jpg: ignoring corrupt image/label: negative label values [ -0.0033333  -0.0033333]\n",
            "\u001b[34m\u001b[1mtrain: \u001b[0mCaching images (3.1GB ram): 100% 2499/2499 [02:17<00:00, 18.17it/s] \n",
            "\u001b[34m\u001b[1mval: \u001b[0mScanning '/content/yolov5-custom_lego_dataset-2022-06-15/../drive/MyDrive/School/Saxion/Leerjaar 3/Machine Learning/Eindopdracht/lego_dataset/train_data/val.cache' images and labels... 547 found, 0 missing, 0 empty, 0 corrupt: 100% 547/547 [00:00<?, ?it/s]\n",
            "\u001b[34m\u001b[1mval: \u001b[0mCaching images (0.7GB ram): 100% 547/547 [00:23<00:00, 23.02it/s] \n",
            "Plotting labels to runs/train/exp/labels.jpg... \n",
            "\n",
            "\u001b[34m\u001b[1mAutoAnchor: \u001b[0m5.16 anchors/target, 1.000 Best Possible Recall (BPR). Current anchors are a good fit to dataset ✅\n",
            "Image sizes 640 train, 640 val\n",
            "Using 2 dataloader workers\n",
            "Logging results to \u001b[1mruns/train/exp\u001b[0m\n",
            "Starting training for 50 epochs...\n",
            "\n",
            "     Epoch   gpu_mem       box       obj       cls    labels  img_size\n",
            "      0/49     6.65G    0.0661   0.03891   0.05156        21       640: 100% 157/157 [01:06<00:00,  2.36it/s]\n",
            "               Class     Images     Labels          P          R     mAP@.5 mAP@.5:.95: 100% 18/18 [00:07<00:00,  2.38it/s]\n",
            "                 all        547       1972      0.241      0.594      0.283      0.158\n",
            "\n",
            "     Epoch   gpu_mem       box       obj       cls    labels  img_size\n",
            "      1/49     7.87G   0.04382   0.02357    0.0468        12       640: 100% 157/157 [01:05<00:00,  2.39it/s]\n",
            "               Class     Images     Labels          P          R     mAP@.5 mAP@.5:.95: 100% 18/18 [00:07<00:00,  2.45it/s]\n",
            "                 all        547       1972      0.302      0.579      0.366      0.214\n",
            "\n",
            "     Epoch   gpu_mem       box       obj       cls    labels  img_size\n",
            "      2/49     7.87G   0.03921   0.02051   0.04164        11       640: 100% 157/157 [01:04<00:00,  2.42it/s]\n",
            "               Class     Images     Labels          P          R     mAP@.5 mAP@.5:.95: 100% 18/18 [00:07<00:00,  2.42it/s]\n",
            "                 all        547       1972       0.42      0.666      0.487      0.313\n",
            "\n",
            "     Epoch   gpu_mem       box       obj       cls    labels  img_size\n",
            "      3/49     7.87G   0.03498    0.0197   0.03629        18       640: 100% 157/157 [01:04<00:00,  2.43it/s]\n",
            "               Class     Images     Labels          P          R     mAP@.5 mAP@.5:.95: 100% 18/18 [00:07<00:00,  2.39it/s]\n",
            "                 all        547       1972      0.633       0.75      0.744      0.518\n",
            "\n",
            "     Epoch   gpu_mem       box       obj       cls    labels  img_size\n",
            "      4/49     7.87G   0.02881   0.01882   0.03039        13       640: 100% 157/157 [01:05<00:00,  2.41it/s]\n",
            "               Class     Images     Labels          P          R     mAP@.5 mAP@.5:.95: 100% 18/18 [00:10<00:00,  1.77it/s]\n",
            "                 all        547       1972      0.733       0.67      0.755      0.579\n",
            "\n",
            "     Epoch   gpu_mem       box       obj       cls    labels  img_size\n",
            "      5/49     7.87G   0.02663   0.01799   0.02691        12       640: 100% 157/157 [01:04<00:00,  2.43it/s]\n",
            "               Class     Images     Labels          P          R     mAP@.5 mAP@.5:.95: 100% 18/18 [00:07<00:00,  2.39it/s]\n",
            "                 all        547       1972      0.754      0.757      0.828      0.627\n",
            "\n",
            "     Epoch   gpu_mem       box       obj       cls    labels  img_size\n",
            "      6/49     7.87G   0.02517   0.01809   0.02488        16       640: 100% 157/157 [01:05<00:00,  2.41it/s]\n",
            "               Class     Images     Labels          P          R     mAP@.5 mAP@.5:.95: 100% 18/18 [00:07<00:00,  2.35it/s]\n",
            "                 all        547       1972      0.832      0.858      0.912      0.751\n",
            "\n",
            "     Epoch   gpu_mem       box       obj       cls    labels  img_size\n",
            "      7/49     7.87G   0.02337   0.01733   0.02325        15       640: 100% 157/157 [01:04<00:00,  2.43it/s]\n",
            "               Class     Images     Labels          P          R     mAP@.5 mAP@.5:.95: 100% 18/18 [00:07<00:00,  2.36it/s]\n",
            "                 all        547       1972      0.701      0.691       0.76      0.639\n",
            "\n",
            "     Epoch   gpu_mem       box       obj       cls    labels  img_size\n",
            "      8/49     7.87G   0.02174   0.01656   0.02251        18       640: 100% 157/157 [01:04<00:00,  2.43it/s]\n",
            "               Class     Images     Labels          P          R     mAP@.5 mAP@.5:.95: 100% 18/18 [00:07<00:00,  2.34it/s]\n",
            "                 all        547       1972      0.867      0.805      0.918      0.775\n",
            "\n",
            "     Epoch   gpu_mem       box       obj       cls    labels  img_size\n",
            "      9/49     7.87G   0.02192   0.01649   0.02088        14       640: 100% 157/157 [01:05<00:00,  2.41it/s]\n",
            "               Class     Images     Labels          P          R     mAP@.5 mAP@.5:.95: 100% 18/18 [00:10<00:00,  1.77it/s]\n",
            "                 all        547       1972      0.875      0.849      0.929      0.768\n",
            "\n",
            "     Epoch   gpu_mem       box       obj       cls    labels  img_size\n",
            "     10/49     7.87G   0.02163   0.01658   0.02037        11       640: 100% 157/157 [01:04<00:00,  2.42it/s]\n",
            "               Class     Images     Labels          P          R     mAP@.5 mAP@.5:.95: 100% 18/18 [00:07<00:00,  2.36it/s]\n",
            "                 all        547       1972      0.855      0.861      0.931      0.794\n",
            "\n",
            "     Epoch   gpu_mem       box       obj       cls    labels  img_size\n",
            "     11/49     7.87G   0.02038   0.01637   0.01897        14       640: 100% 157/157 [01:05<00:00,  2.40it/s]\n",
            "               Class     Images     Labels          P          R     mAP@.5 mAP@.5:.95: 100% 18/18 [00:07<00:00,  2.34it/s]\n",
            "                 all        547       1972      0.874      0.869      0.938       0.83\n",
            "\n",
            "     Epoch   gpu_mem       box       obj       cls    labels  img_size\n",
            "     12/49     7.87G   0.01923    0.0158   0.01843        25       640: 100% 157/157 [01:04<00:00,  2.44it/s]\n",
            "               Class     Images     Labels          P          R     mAP@.5 mAP@.5:.95: 100% 18/18 [00:07<00:00,  2.35it/s]\n",
            "                 all        547       1972      0.888       0.89      0.946      0.824\n",
            "\n",
            "     Epoch   gpu_mem       box       obj       cls    labels  img_size\n",
            "     13/49     7.87G    0.0193   0.01564   0.01809        15       640: 100% 157/157 [01:04<00:00,  2.42it/s]\n",
            "               Class     Images     Labels          P          R     mAP@.5 mAP@.5:.95: 100% 18/18 [00:07<00:00,  2.35it/s]\n",
            "                 all        547       1972      0.878      0.858      0.934      0.826\n",
            "\n",
            "     Epoch   gpu_mem       box       obj       cls    labels  img_size\n",
            "     14/49     7.87G   0.01915   0.01591   0.01827        16       640: 100% 157/157 [01:04<00:00,  2.43it/s]\n",
            "               Class     Images     Labels          P          R     mAP@.5 mAP@.5:.95: 100% 18/18 [00:10<00:00,  1.76it/s]\n",
            "                 all        547       1972      0.872       0.87      0.939      0.836\n",
            "\n",
            "     Epoch   gpu_mem       box       obj       cls    labels  img_size\n",
            "     15/49     7.87G    0.0183   0.01547   0.01681         9       640: 100% 157/157 [01:04<00:00,  2.42it/s]\n",
            "               Class     Images     Labels          P          R     mAP@.5 mAP@.5:.95: 100% 18/18 [00:07<00:00,  2.35it/s]\n",
            "                 all        547       1972      0.887      0.886      0.948      0.839\n",
            "\n",
            "     Epoch   gpu_mem       box       obj       cls    labels  img_size\n",
            "     16/49     7.87G   0.01814   0.01478   0.01662         5       640: 100% 157/157 [01:04<00:00,  2.42it/s]\n",
            "               Class     Images     Labels          P          R     mAP@.5 mAP@.5:.95: 100% 18/18 [00:07<00:00,  2.35it/s]\n",
            "                 all        547       1972      0.911      0.885      0.951      0.842\n",
            "\n",
            "     Epoch   gpu_mem       box       obj       cls    labels  img_size\n",
            "     17/49     7.87G   0.01739   0.01489   0.01614        13       640: 100% 157/157 [01:04<00:00,  2.43it/s]\n",
            "               Class     Images     Labels          P          R     mAP@.5 mAP@.5:.95: 100% 18/18 [00:07<00:00,  2.37it/s]\n",
            "                 all        547       1972      0.878      0.857      0.934      0.834\n",
            "\n",
            "     Epoch   gpu_mem       box       obj       cls    labels  img_size\n",
            "     18/49     7.87G    0.0171   0.01474   0.01504        12       640: 100% 157/157 [01:04<00:00,  2.42it/s]\n",
            "               Class     Images     Labels          P          R     mAP@.5 mAP@.5:.95: 100% 18/18 [00:07<00:00,  2.35it/s]\n",
            "                 all        547       1972      0.902      0.881       0.95      0.864\n",
            "\n",
            "     Epoch   gpu_mem       box       obj       cls    labels  img_size\n",
            "     19/49     7.87G   0.01704   0.01466   0.01525         9       640: 100% 157/157 [01:04<00:00,  2.44it/s]\n",
            "               Class     Images     Labels          P          R     mAP@.5 mAP@.5:.95: 100% 18/18 [00:10<00:00,  1.77it/s]\n",
            "                 all        547       1972      0.866      0.881      0.946       0.85\n",
            "\n",
            "     Epoch   gpu_mem       box       obj       cls    labels  img_size\n",
            "     20/49     7.87G   0.01658   0.01417   0.01422        13       640: 100% 157/157 [01:05<00:00,  2.42it/s]\n",
            "               Class     Images     Labels          P          R     mAP@.5 mAP@.5:.95: 100% 18/18 [00:07<00:00,  2.27it/s]\n",
            "                 all        547       1972      0.907      0.919      0.966      0.869\n",
            "\n",
            "     Epoch   gpu_mem       box       obj       cls    labels  img_size\n",
            "     21/49     7.87G   0.01601   0.01423    0.0137        17       640: 100% 157/157 [01:04<00:00,  2.43it/s]\n",
            "               Class     Images     Labels          P          R     mAP@.5 mAP@.5:.95: 100% 18/18 [00:07<00:00,  2.34it/s]\n",
            "                 all        547       1972      0.914      0.918      0.967      0.884\n",
            "\n",
            "     Epoch   gpu_mem       box       obj       cls    labels  img_size\n",
            "     22/49     7.87G    0.0161   0.01446   0.01359        14       640: 100% 157/157 [01:04<00:00,  2.43it/s]\n",
            "               Class     Images     Labels          P          R     mAP@.5 mAP@.5:.95: 100% 18/18 [00:07<00:00,  2.34it/s]\n",
            "                 all        547       1972      0.906      0.907      0.962      0.878\n",
            "\n",
            "     Epoch   gpu_mem       box       obj       cls    labels  img_size\n",
            "     23/49     7.87G   0.01584   0.01395   0.01357        20       640: 100% 157/157 [01:05<00:00,  2.42it/s]\n",
            "               Class     Images     Labels          P          R     mAP@.5 mAP@.5:.95: 100% 18/18 [00:07<00:00,  2.35it/s]\n",
            "                 all        547       1972      0.923      0.901      0.963      0.874\n",
            "\n",
            "     Epoch   gpu_mem       box       obj       cls    labels  img_size\n",
            "     24/49     7.87G   0.01547   0.01393   0.01308        21       640: 100% 157/157 [01:04<00:00,  2.44it/s]\n",
            "               Class     Images     Labels          P          R     mAP@.5 mAP@.5:.95: 100% 18/18 [00:10<00:00,  1.77it/s]\n",
            "                 all        547       1972      0.918      0.899      0.963      0.883\n",
            "\n",
            "     Epoch   gpu_mem       box       obj       cls    labels  img_size\n",
            "     25/49     7.87G   0.01537   0.01419   0.01283        22       640: 100% 157/157 [01:05<00:00,  2.41it/s]\n",
            "               Class     Images     Labels          P          R     mAP@.5 mAP@.5:.95: 100% 18/18 [00:07<00:00,  2.35it/s]\n",
            "                 all        547       1972      0.916      0.921       0.97        0.9\n",
            "\n",
            "     Epoch   gpu_mem       box       obj       cls    labels  img_size\n",
            "     26/49     7.87G   0.01491   0.01344   0.01202        13       640: 100% 157/157 [01:04<00:00,  2.43it/s]\n",
            "               Class     Images     Labels          P          R     mAP@.5 mAP@.5:.95: 100% 18/18 [00:07<00:00,  2.34it/s]\n",
            "                 all        547       1972      0.923        0.9      0.964      0.893\n",
            "\n",
            "     Epoch   gpu_mem       box       obj       cls    labels  img_size\n",
            "     27/49     7.87G   0.01418   0.01323   0.01212         8       640: 100% 157/157 [01:04<00:00,  2.43it/s]\n",
            "               Class     Images     Labels          P          R     mAP@.5 mAP@.5:.95: 100% 18/18 [00:07<00:00,  2.33it/s]\n",
            "                 all        547       1972      0.932      0.916       0.97      0.897\n",
            "\n",
            "     Epoch   gpu_mem       box       obj       cls    labels  img_size\n",
            "     28/49     7.87G   0.01433   0.01319   0.01151        11       640: 100% 157/157 [01:04<00:00,  2.43it/s]\n",
            "               Class     Images     Labels          P          R     mAP@.5 mAP@.5:.95: 100% 18/18 [00:07<00:00,  2.34it/s]\n",
            "                 all        547       1972      0.928      0.928      0.971        0.9\n",
            "\n",
            "     Epoch   gpu_mem       box       obj       cls    labels  img_size\n",
            "     29/49     7.87G   0.01438   0.01331    0.0117        11       640: 100% 157/157 [01:04<00:00,  2.44it/s]\n",
            "               Class     Images     Labels          P          R     mAP@.5 mAP@.5:.95: 100% 18/18 [00:10<00:00,  1.76it/s]\n",
            "                 all        547       1972      0.923      0.934      0.974      0.901\n",
            "\n",
            "     Epoch   gpu_mem       box       obj       cls    labels  img_size\n",
            "     30/49     7.87G    0.0143   0.01305   0.01155        19       640: 100% 157/157 [01:04<00:00,  2.43it/s]\n",
            "               Class     Images     Labels          P          R     mAP@.5 mAP@.5:.95: 100% 18/18 [00:07<00:00,  2.35it/s]\n",
            "                 all        547       1972       0.92      0.932      0.971        0.9\n",
            "\n",
            "     Epoch   gpu_mem       box       obj       cls    labels  img_size\n",
            "     31/49     7.87G   0.01373   0.01299   0.01103        19       640: 100% 157/157 [01:04<00:00,  2.43it/s]\n",
            "               Class     Images     Labels          P          R     mAP@.5 mAP@.5:.95: 100% 18/18 [00:07<00:00,  2.34it/s]\n",
            "                 all        547       1972      0.932      0.929      0.974      0.903\n",
            "\n",
            "     Epoch   gpu_mem       box       obj       cls    labels  img_size\n",
            "     32/49     7.87G   0.01349   0.01285   0.01088         8       640: 100% 157/157 [01:04<00:00,  2.43it/s]\n",
            "               Class     Images     Labels          P          R     mAP@.5 mAP@.5:.95: 100% 18/18 [00:07<00:00,  2.35it/s]\n",
            "                 all        547       1972      0.937      0.915      0.969      0.907\n",
            "\n",
            "     Epoch   gpu_mem       box       obj       cls    labels  img_size\n",
            "     33/49     7.87G   0.01353   0.01264   0.01078         8       640: 100% 157/157 [01:04<00:00,  2.43it/s]\n",
            "               Class     Images     Labels          P          R     mAP@.5 mAP@.5:.95: 100% 18/18 [00:07<00:00,  2.34it/s]\n",
            "                 all        547       1972      0.929      0.927       0.97      0.902\n",
            "\n",
            "     Epoch   gpu_mem       box       obj       cls    labels  img_size\n",
            "     34/49     7.87G   0.01309   0.01226   0.01045        11       640: 100% 157/157 [01:04<00:00,  2.44it/s]\n",
            "               Class     Images     Labels          P          R     mAP@.5 mAP@.5:.95: 100% 18/18 [00:10<00:00,  1.76it/s]\n",
            "                 all        547       1972      0.952      0.918       0.97      0.907\n",
            "\n",
            "     Epoch   gpu_mem       box       obj       cls    labels  img_size\n",
            "     35/49     7.87G   0.01299   0.01272   0.01031        14       640: 100% 157/157 [01:05<00:00,  2.41it/s]\n",
            "               Class     Images     Labels          P          R     mAP@.5 mAP@.5:.95: 100% 18/18 [00:07<00:00,  2.33it/s]\n",
            "                 all        547       1972      0.938      0.932      0.976      0.918\n",
            "\n",
            "     Epoch   gpu_mem       box       obj       cls    labels  img_size\n",
            "     36/49     7.87G   0.01252   0.01205  0.009775        15       640: 100% 157/157 [01:04<00:00,  2.44it/s]\n",
            "               Class     Images     Labels          P          R     mAP@.5 mAP@.5:.95: 100% 18/18 [00:07<00:00,  2.33it/s]\n",
            "                 all        547       1972      0.948      0.933      0.977      0.917\n",
            "\n",
            "     Epoch   gpu_mem       box       obj       cls    labels  img_size\n",
            "     37/49     7.87G   0.01239   0.01224  0.009807        13       640: 100% 157/157 [01:04<00:00,  2.44it/s]\n",
            "               Class     Images     Labels          P          R     mAP@.5 mAP@.5:.95: 100% 18/18 [00:07<00:00,  2.34it/s]\n",
            "                 all        547       1972       0.94      0.927      0.973      0.916\n",
            "\n",
            "     Epoch   gpu_mem       box       obj       cls    labels  img_size\n",
            "     38/49     7.87G   0.01237    0.0123  0.009374        24       640: 100% 157/157 [01:04<00:00,  2.44it/s]\n",
            "               Class     Images     Labels          P          R     mAP@.5 mAP@.5:.95: 100% 18/18 [00:07<00:00,  2.34it/s]\n",
            "                 all        547       1972      0.948      0.928      0.977      0.923\n",
            "\n",
            "     Epoch   gpu_mem       box       obj       cls    labels  img_size\n",
            "     39/49     7.87G   0.01198   0.01182  0.009439        11       640: 100% 157/157 [01:04<00:00,  2.44it/s]\n",
            "               Class     Images     Labels          P          R     mAP@.5 mAP@.5:.95: 100% 18/18 [00:10<00:00,  1.76it/s]\n",
            "                 all        547       1972      0.945      0.941      0.976      0.918\n",
            "\n",
            "     Epoch   gpu_mem       box       obj       cls    labels  img_size\n",
            "     40/49     7.87G   0.01197   0.01194  0.008925         9       640: 100% 157/157 [01:04<00:00,  2.42it/s]\n",
            "               Class     Images     Labels          P          R     mAP@.5 mAP@.5:.95: 100% 18/18 [00:07<00:00,  2.34it/s]\n",
            "                 all        547       1972      0.947      0.926      0.972      0.915\n",
            "\n",
            "     Epoch   gpu_mem       box       obj       cls    labels  img_size\n",
            "     41/49     7.87G   0.01157   0.01191  0.009118        11       640: 100% 157/157 [01:04<00:00,  2.44it/s]\n",
            "               Class     Images     Labels          P          R     mAP@.5 mAP@.5:.95: 100% 18/18 [00:07<00:00,  2.35it/s]\n",
            "                 all        547       1972      0.939      0.935      0.972      0.919\n",
            "\n",
            "     Epoch   gpu_mem       box       obj       cls    labels  img_size\n",
            "     42/49     7.87G    0.0115   0.01154  0.008576        10       640: 100% 157/157 [01:04<00:00,  2.42it/s]\n",
            "               Class     Images     Labels          P          R     mAP@.5 mAP@.5:.95: 100% 18/18 [00:07<00:00,  2.34it/s]\n",
            "                 all        547       1972      0.941      0.928      0.971      0.918\n",
            "\n",
            "     Epoch   gpu_mem       box       obj       cls    labels  img_size\n",
            "     43/49     7.87G   0.01125    0.0115  0.008264        17       640: 100% 157/157 [01:04<00:00,  2.44it/s]\n",
            "               Class     Images     Labels          P          R     mAP@.5 mAP@.5:.95: 100% 18/18 [00:07<00:00,  2.35it/s]\n",
            "                 all        547       1972      0.946      0.938      0.978      0.924\n",
            "\n",
            "     Epoch   gpu_mem       box       obj       cls    labels  img_size\n",
            "     44/49     7.87G   0.01103   0.01147   0.00776        25       640: 100% 157/157 [01:04<00:00,  2.44it/s]\n",
            "               Class     Images     Labels          P          R     mAP@.5 mAP@.5:.95: 100% 18/18 [00:10<00:00,  1.66it/s]\n",
            "                 all        547       1972      0.943      0.949      0.979       0.93\n",
            "\n",
            "     Epoch   gpu_mem       box       obj       cls    labels  img_size\n",
            "     45/49     7.87G   0.01084   0.01132    0.0078        12       640: 100% 157/157 [01:04<00:00,  2.43it/s]\n",
            "               Class     Images     Labels          P          R     mAP@.5 mAP@.5:.95: 100% 18/18 [00:07<00:00,  2.33it/s]\n",
            "                 all        547       1972      0.951      0.938      0.978      0.929\n",
            "\n",
            "     Epoch   gpu_mem       box       obj       cls    labels  img_size\n",
            "     46/49     7.87G   0.01072     0.011   0.00787         7       640: 100% 157/157 [01:04<00:00,  2.43it/s]\n",
            "               Class     Images     Labels          P          R     mAP@.5 mAP@.5:.95: 100% 18/18 [00:07<00:00,  2.34it/s]\n",
            "                 all        547       1972      0.943      0.949      0.979      0.932\n",
            "\n",
            "     Epoch   gpu_mem       box       obj       cls    labels  img_size\n",
            "     47/49     7.87G   0.01058    0.0108  0.007611        21       640: 100% 157/157 [01:04<00:00,  2.42it/s]\n",
            "               Class     Images     Labels          P          R     mAP@.5 mAP@.5:.95: 100% 18/18 [00:07<00:00,  2.32it/s]\n",
            "                 all        547       1972      0.947      0.945       0.98      0.934\n",
            "\n",
            "     Epoch   gpu_mem       box       obj       cls    labels  img_size\n",
            "     48/49     7.87G   0.01065   0.01094  0.007724        24       640: 100% 157/157 [01:04<00:00,  2.44it/s]\n",
            "               Class     Images     Labels          P          R     mAP@.5 mAP@.5:.95: 100% 18/18 [00:07<00:00,  2.30it/s]\n",
            "                 all        547       1972      0.954       0.94       0.98      0.934\n",
            "\n",
            "     Epoch   gpu_mem       box       obj       cls    labels  img_size\n",
            "     49/49     7.87G   0.01038    0.0108  0.007512        19       640: 100% 157/157 [01:04<00:00,  2.42it/s]\n",
            "               Class     Images     Labels          P          R     mAP@.5 mAP@.5:.95: 100% 18/18 [00:10<00:00,  1.76it/s]\n",
            "                 all        547       1972      0.952      0.948       0.98      0.934\n",
            "\n",
            "50 epochs completed in 1.032 hours.\n",
            "Optimizer stripped from runs/train/exp/weights/last.pt, 42.3MB\n",
            "Optimizer stripped from runs/train/exp/weights/best.pt, 42.3MB\n",
            "\n",
            "Validating runs/train/exp/weights/best.pt...\n",
            "Fusing layers... \n",
            "Model summary: 290 layers, 20873139 parameters, 0 gradients\n",
            "               Class     Images     Labels          P          R     mAP@.5 mAP@.5:.95: 100% 18/18 [00:12<00:00,  1.41it/s]\n",
            "                 all        547       1972      0.954       0.94       0.98      0.934\n",
            "           brick_2x4        547        321      0.931      0.916      0.971      0.939\n",
            "           plate_2x2        547        332      0.919      0.949      0.977      0.922\n",
            "           plate_1x2        547        345      0.972      0.922      0.973      0.893\n",
            "           plate_2x4        547        324      0.971      0.924      0.984      0.937\n",
            "           brick_1x6        547        324       0.99      0.964      0.992      0.953\n",
            "           brick_2x2        547        326      0.938      0.966      0.984      0.959\n",
            "Results saved to \u001b[1mruns/train/exp\u001b[0m\n",
            "\u001b[34m\u001b[1mwandb\u001b[0m: Waiting for W&B process to finish... \u001b[32m(success).\u001b[0m\n",
            "\u001b[34m\u001b[1mwandb\u001b[0m:                                                                                \n",
            "\u001b[34m\u001b[1mwandb\u001b[0m: \n",
            "\u001b[34m\u001b[1mwandb\u001b[0m: Run history:\n",
            "\u001b[34m\u001b[1mwandb\u001b[0m:      metrics/mAP_0.5 ▁▂▃▆▆▇▆▇████████████████████████████████\n",
            "\u001b[34m\u001b[1mwandb\u001b[0m: metrics/mAP_0.5:0.95 ▁▁▂▄▅▆▅▇▇▇▇▇▇▇▇▇▇█▇█████████████████████\n",
            "\u001b[34m\u001b[1mwandb\u001b[0m:    metrics/precision ▁▂▃▅▆▇▆▇▇▇▇▇▇█▇▇████████████████████████\n",
            "\u001b[34m\u001b[1mwandb\u001b[0m:       metrics/recall ▁▁▃▄▄▆▃▅▆▆▇▆▇▇▆▇▇▇▇▇▇▇███▇█▇████████████\n",
            "\u001b[34m\u001b[1mwandb\u001b[0m:       train/box_loss █▅▅▄▃▃▃▂▂▂▂▂▂▂▂▂▂▂▂▂▂▂▁▁▁▁▁▁▁▁▁▁▁▁▁▁▁▁▁▁\n",
            "\u001b[34m\u001b[1mwandb\u001b[0m:       train/cls_loss █▇▆▆▄▄▄▃▃▃▃▃▂▂▂▂▂▂▂▂▂▂▂▂▂▂▂▂▁▁▁▁▁▁▁▁▁▁▁▁\n",
            "\u001b[34m\u001b[1mwandb\u001b[0m:       train/obj_loss █▄▃▃▃▃▃▂▂▂▂▂▂▂▂▂▂▂▂▂▂▂▂▂▂▂▂▁▁▁▁▁▁▁▁▁▁▁▁▁\n",
            "\u001b[34m\u001b[1mwandb\u001b[0m:         val/box_loss █▆▆▅▄▃▃▃▃▂▂▂▂▂▂▂▂▂▂▂▁▁▂▁▁▁▁▁▁▁▁▁▁▁▁▁▁▁▁▁\n",
            "\u001b[34m\u001b[1mwandb\u001b[0m:         val/cls_loss █▇▆▅▄▃▅▂▂▂▂▂▂▂▂▂▂▁▂▂▁▁▁▁▁▁▁▁▁▁▁▁▁▁▁▁▁▁▁▁\n",
            "\u001b[34m\u001b[1mwandb\u001b[0m:         val/obj_loss █▆▅▅▅▃▄▄▃▃▃▃▃▃▃▂▂▂▂▂▂▂▂▂▂▂▁▁▁▁▁▁▁▁▁▁▁▁▁▁\n",
            "\u001b[34m\u001b[1mwandb\u001b[0m:                x/lr0 ▃▆████▇▇▇▇▇▆▆▆▆▆▅▅▅▅▅▅▄▄▄▄▄▃▃▃▃▃▂▂▂▂▂▁▁▁\n",
            "\u001b[34m\u001b[1mwandb\u001b[0m:                x/lr1 ▃▆████▇▇▇▇▇▆▆▆▆▆▅▅▅▅▅▅▄▄▄▄▄▃▃▃▃▃▂▂▂▂▂▁▁▁\n",
            "\u001b[34m\u001b[1mwandb\u001b[0m:                x/lr2 █▅▂▂▂▂▂▂▂▂▂▂▂▂▂▂▂▂▂▂▁▁▁▁▁▁▁▁▁▁▁▁▁▁▁▁▁▁▁▁\n",
            "\u001b[34m\u001b[1mwandb\u001b[0m: \n",
            "\u001b[34m\u001b[1mwandb\u001b[0m: Run summary:\n",
            "\u001b[34m\u001b[1mwandb\u001b[0m:           best/epoch 48\n",
            "\u001b[34m\u001b[1mwandb\u001b[0m:         best/mAP_0.5 0.98026\n",
            "\u001b[34m\u001b[1mwandb\u001b[0m:    best/mAP_0.5:0.95 0.93394\n",
            "\u001b[34m\u001b[1mwandb\u001b[0m:       best/precision 0.95381\n",
            "\u001b[34m\u001b[1mwandb\u001b[0m:          best/recall 0.94024\n",
            "\u001b[34m\u001b[1mwandb\u001b[0m:      metrics/mAP_0.5 0.98025\n",
            "\u001b[34m\u001b[1mwandb\u001b[0m: metrics/mAP_0.5:0.95 0.93372\n",
            "\u001b[34m\u001b[1mwandb\u001b[0m:    metrics/precision 0.9537\n",
            "\u001b[34m\u001b[1mwandb\u001b[0m:       metrics/recall 0.94028\n",
            "\u001b[34m\u001b[1mwandb\u001b[0m:       train/box_loss 0.01038\n",
            "\u001b[34m\u001b[1mwandb\u001b[0m:       train/cls_loss 0.00751\n",
            "\u001b[34m\u001b[1mwandb\u001b[0m:       train/obj_loss 0.0108\n",
            "\u001b[34m\u001b[1mwandb\u001b[0m:         val/box_loss 0.00879\n",
            "\u001b[34m\u001b[1mwandb\u001b[0m:         val/cls_loss 0.00775\n",
            "\u001b[34m\u001b[1mwandb\u001b[0m:         val/obj_loss 0.00652\n",
            "\u001b[34m\u001b[1mwandb\u001b[0m:                x/lr0 0.0005\n",
            "\u001b[34m\u001b[1mwandb\u001b[0m:                x/lr1 0.0005\n",
            "\u001b[34m\u001b[1mwandb\u001b[0m:                x/lr2 0.0005\n",
            "\u001b[34m\u001b[1mwandb\u001b[0m: \n",
            "\u001b[34m\u001b[1mwandb\u001b[0m: Synced \u001b[33mglorious-sea-8\u001b[0m: \u001b[34m\u001b[4mhttps://wandb.ai/483172/YOLOv5/runs/1n5idh1b\u001b[0m\n",
            "\u001b[34m\u001b[1mwandb\u001b[0m: Synced 5 W&B file(s), 337 media file(s), 1 artifact file(s) and 0 other file(s)\n",
            "\u001b[34m\u001b[1mwandb\u001b[0m: Find logs at: \u001b[35m\u001b[1m./wandb/run-20220616_214844-1n5idh1b/logs\u001b[0m\n"
          ]
        }
      ],
      "source": [
        "# Dataset to use for training is declared as `--data coco128.yaml`\n",
        "# Using a pretrained model to start training is declared as `--weights yolov5s.pt`\n",
        "# Using a randomly initialized model to start training is declared as `--weights '' --cfg yolov5s.yaml`.\n",
        "\n",
        "# Train our custom YOLOv5 model, starting with the pretrained YOLOv5m model and trained on the custom lego dataset\n",
        "!python train.py --img 640 --batch 16 --epochs 50 --data custom_lego_dataset.yaml --weights yolov5m.pt --cache"
      ]
    },
    {
      "cell_type": "markdown",
      "metadata": {},
      "source": [
        "From the output of our training we can already see it has done a pretty decent job. But to visualize it in graphs we can show the summary it has created."
      ]
    },
    {
      "cell_type": "code",
      "execution_count": null,
      "metadata": {},
      "outputs": [],
      "source": [
        "# Show the training summary\n",
        "display.Image(filename='runs/train/exp/results.png', width=600)\n",
        "display.Image(filename='runs/train/exp/P_curve.png', width=600)\n",
        "display.Image(filename='runs/train/exp/R_curve.png', width=600)\n",
        "display.Image(filename='runs/train/exp/PR_curve.png', width=600)\n",
        "display.Image(filename='runs/train/exp/F1_curve.png', width=600)\n",
        "display.Image(filename='runs/train/exp/confusion_matrix.png', width=600)"
      ]
    },
    {
      "cell_type": "markdown",
      "metadata": {},
      "source": [
        "Ofcourse we want to see how it has actually done. Lets show some prediction results."
      ]
    },
    {
      "cell_type": "code",
      "execution_count": null,
      "metadata": {},
      "outputs": [],
      "source": [
        "# Show the prediction results\n",
        "display.Image(filename='runs/train/exp/val_batch0_pred.jpg', width=800)\n",
        "display.Image(filename='runs/train/exp/val_batch1_pred.jpg', width=800)\n",
        "display.Image(filename='runs/train/exp/val_batch2_pred.jpg', width=800)"
      ]
    },
    {
      "cell_type": "markdown",
      "metadata": {},
      "source": [
        "Yes, I'm still astonished at how certain it is."
      ]
    },
    {
      "cell_type": "markdown",
      "metadata": {
        "id": "91Syq5o_fCRc"
      },
      "source": [
        "# Detect\n",
        "\n",
        "Now we have trained our custom model, we can use it to detect legos in test images and videos.\n",
        "\n",
        "Note 1: The command is set up to use the custom model i have trained in advance and provided through GitHub. If you want to use your own trained model, you will need to change the 'exp' part of the commands to use your training run ('exp2' for example) or uploaded model.\n",
        "\n",
        "Note 2: The command is set up to detect in the images and videos i have selected and provided through GitHub. If you want to use your own images or videos, you will need to upload your own images or videos to the 'data/images' or 'data/videos' folder and change the commands to use your test files. You will also need to change the 'display.Image' command to suit your files."
      ]
    },
    {
      "cell_type": "code",
      "execution_count": null,
      "metadata": {
        "id": "WM0_FNUnfCRd"
      },
      "outputs": [],
      "source": [
        "# Detect legos in test images with our custom trainded YOLOv5 model\n",
        "!python detect.py --weights runs/train/exp/weights/best.pt --img 640 --conf 0.8 --source data/images"
      ]
    },
    {
      "cell_type": "code",
      "execution_count": null,
      "metadata": {},
      "outputs": [],
      "source": [
        "# Show the image results\n",
        "display.Image(filename='runs/detect/exp/lego 2x4 brick.jpg', width=600)\n",
        "display.Image(filename='runs/detect/exp/lego 2x2 plate.jpg', width=600)\n",
        "display.Image(filename='runs/detect/exp/lego 1x2 plate.jpg', width=600)\n",
        "display.Image(filename='runs/detect/exp/lego 2x4 plate.jpg', width=600)\n",
        "display.Image(filename='runs/detect/exp/lego 1x6 brick.jpg', width=600)\n",
        "display.Image(filename='runs/detect/exp/lego 2x2 brick.jpg', width=600)"
      ]
    },
    {
      "cell_type": "code",
      "execution_count": null,
      "metadata": {},
      "outputs": [],
      "source": [
        "# Detect legos in test videos with our custom trainded YOLOv5 model\n",
        "!python detect.py --weights runs/train/exp/weights/best.pt --img 640 --conf 0.8 --source data/videos"
      ]
    },
    {
      "cell_type": "code",
      "execution_count": null,
      "metadata": {},
      "outputs": [],
      "source": [
        "# To view the video results you can download the files from the 'data/runs/exp' folder, they will have the following names:\n",
        "# - 'LEGO Colors & the 2x4 Brick Collecting Trend_Trim2.mp4'\n",
        "# - 'LEGO Colors & the 2x4 Brick Collecting Trend_Trim3.mp4'\n",
        "# - 'LEGO Colors & the 2x4 Brick Collecting Trend_Trim4.mp4'"
      ]
    },
    {
      "cell_type": "markdown",
      "metadata": {
        "id": "4JnkELT0cIJg"
      },
      "source": [
        "# 1. Inference\n",
        "\n",
        "`detect.py` runs YOLOv5 inference on a variety of sources, downloading models automatically from the [latest YOLOv5 release](https://github.com/ultralytics/yolov5/releases), and saving results to `runs/detect`. Example inference sources are:\n",
        "\n",
        "```shell\n",
        "python detect.py --source 0  # webcam\n",
        "                          img.jpg  # image \n",
        "                          vid.mp4  # video\n",
        "                          path/  # directory\n",
        "                          path/*.jpg  # glob\n",
        "                          'https://youtu.be/Zgi9g1ksQHc'  # YouTube\n",
        "                          'rtsp://example.com/media.mp4'  # RTSP, RTMP, HTTP stream\n",
        "```"
      ]
    },
    {
      "cell_type": "code",
      "execution_count": null,
      "metadata": {
        "colab": {
          "base_uri": "https://localhost:8080/"
        },
        "id": "zR9ZbuQCH7FX",
        "outputId": "2f43338d-f533-4277-ef9f-b37b565e2702"
      },
      "outputs": [
        {
          "name": "stdout",
          "output_type": "stream",
          "text": [
            "\u001b[34m\u001b[1mdetect: \u001b[0mweights=['yolov5s.pt'], source=data/images, data=data/coco128.yaml, imgsz=[640, 640], conf_thres=0.25, iou_thres=0.45, max_det=1000, device=, view_img=False, save_txt=False, save_conf=False, save_crop=False, nosave=False, classes=None, agnostic_nms=False, augment=False, visualize=False, update=False, project=runs/detect, name=exp, exist_ok=False, line_thickness=3, hide_labels=False, hide_conf=False, half=False, dnn=False\n",
            "YOLOv5 🚀 v6.1-174-gc4cb7c6 torch 1.11.0+cu113 CUDA:0 (Tesla V100-SXM2-16GB, 16160MiB)\n",
            "\n",
            "Downloading https://github.com/ultralytics/yolov5/releases/download/v6.1/yolov5s.pt to yolov5s.pt...\n",
            "100% 14.1M/14.1M [00:00<00:00, 220MB/s]\n",
            "\n",
            "Fusing layers... \n",
            "YOLOv5s summary: 213 layers, 7225885 parameters, 0 gradients\n",
            "image 1/2 /content/yolov5/data/images/bus.jpg: 640x480 4 persons, 1 bus, Done. (0.012s)\n",
            "image 2/2 /content/yolov5/data/images/zidane.jpg: 384x640 2 persons, 2 ties, Done. (0.013s)\n",
            "Speed: 0.5ms pre-process, 12.5ms inference, 17.3ms NMS per image at shape (1, 3, 640, 640)\n",
            "Results saved to \u001b[1mruns/detect/exp\u001b[0m\n"
          ]
        }
      ],
      "source": [
        "!python detect.py --weights yolov5s.pt --img 640 --conf 0.25 --source data/images\n",
        "display.Image(filename='runs/detect/exp/zidane.jpg', width=600)"
      ]
    },
    {
      "cell_type": "markdown",
      "metadata": {
        "id": "hkAzDWJ7cWTr"
      },
      "source": [
        "&nbsp;&nbsp;&nbsp;&nbsp;&nbsp;&nbsp;&nbsp;&nbsp;\n",
        "<img align=\"left\" src=\"https://user-images.githubusercontent.com/26833433/127574988-6a558aa1-d268-44b9-bf6b-62d4c605cc72.jpg\" width=\"600\">"
      ]
    },
    {
      "cell_type": "markdown",
      "metadata": {
        "id": "0eq1SMWl6Sfn"
      },
      "source": [
        "# 2. Validate\n",
        "Validate a model's accuracy on [COCO](https://cocodataset.org/#home) val or test-dev datasets. Models are downloaded automatically from the [latest YOLOv5 release](https://github.com/ultralytics/yolov5/releases). To show results by class use the `--verbose` flag. Note that `pycocotools` metrics may be ~1% better than the equivalent repo metrics, as is visible below, due to slight differences in mAP computation."
      ]
    },
    {
      "cell_type": "markdown",
      "metadata": {
        "id": "eyTZYGgRjnMc"
      },
      "source": [
        "## COCO val\n",
        "Download [COCO val 2017](https://github.com/ultralytics/yolov5/blob/74b34872fdf41941cddcf243951cdb090fbac17b/data/coco.yaml#L14) dataset (1GB - 5000 images), and test model accuracy."
      ]
    },
    {
      "cell_type": "code",
      "execution_count": null,
      "metadata": {
        "colab": {
          "base_uri": "https://localhost:8080/",
          "height": 49,
          "referenced_widgets": [
            "d90eeb56398f458086e3b2b41dbd9fec",
            "d91d8347f17349a4987cea29eac0a49c",
            "8f4ffda703ac4348ab7edf1d12a188e1",
            "8c2d91f564de45f8a403386eeeccac27",
            "5dd95d3eda8b49f7910620edcdcbdcdc",
            "520e5b7e80eb450188261cffbc574d25",
            "3cef138c5f7743858bb0f87b65dd3c76",
            "c3782c6dda80400ba7f8c5345624bf87",
            "11415bab172a4904b73e29ff60f6fce1",
            "eac18040908042dbae67a47d23e95b47",
            "e0fc1d6eb478469c9098aa9518d7b358"
          ]
        },
        "id": "WQPtK1QYVaD_",
        "outputId": "26f3c005-cc13-4b7c-8523-844b56a0b0e3"
      },
      "outputs": [
        {
          "data": {
            "application/vnd.jupyter.widget-view+json": {
              "model_id": "d90eeb56398f458086e3b2b41dbd9fec",
              "version_major": 2,
              "version_minor": 0
            },
            "text/plain": [
              "  0%|          | 0.00/780M [00:00<?, ?B/s]"
            ]
          },
          "metadata": {},
          "output_type": "display_data"
        }
      ],
      "source": [
        "# Download COCO val\n",
        "torch.hub.download_url_to_file('https://ultralytics.com/assets/coco2017val.zip', 'tmp.zip')\n",
        "!unzip -q tmp.zip -d ../datasets && rm tmp.zip"
      ]
    },
    {
      "cell_type": "code",
      "execution_count": null,
      "metadata": {
        "colab": {
          "base_uri": "https://localhost:8080/"
        },
        "id": "X58w8JLpMnjH",
        "outputId": "c73097d6-02a8-43af-9962-ba6500b793ff"
      },
      "outputs": [
        {
          "name": "stdout",
          "output_type": "stream",
          "text": [
            "\u001b[34m\u001b[1mval: \u001b[0mdata=/content/yolov5/data/coco.yaml, weights=['yolov5x.pt'], batch_size=32, imgsz=640, conf_thres=0.001, iou_thres=0.65, task=val, device=, workers=8, single_cls=False, augment=False, verbose=False, save_txt=False, save_hybrid=False, save_conf=False, save_json=True, project=runs/val, name=exp, exist_ok=False, half=True, dnn=False\n",
            "YOLOv5 🚀 v6.1-174-gc4cb7c6 torch 1.11.0+cu113 CUDA:0 (Tesla V100-SXM2-16GB, 16160MiB)\n",
            "\n",
            "Downloading https://github.com/ultralytics/yolov5/releases/download/v6.1/yolov5x.pt to yolov5x.pt...\n",
            "100% 166M/166M [00:05<00:00, 33.5MB/s]\n",
            "\n",
            "Fusing layers... \n",
            "YOLOv5x summary: 444 layers, 86705005 parameters, 0 gradients\n",
            "Downloading https://ultralytics.com/assets/Arial.ttf to /root/.config/Ultralytics/Arial.ttf...\n",
            "100% 755k/755k [00:00<00:00, 49.6MB/s]\n",
            "\u001b[34m\u001b[1mval: \u001b[0mScanning '/content/datasets/coco/val2017' images and labels...4952 found, 48 missing, 0 empty, 0 corrupt: 100% 5000/5000 [00:00<00:00, 10667.19it/s]\n",
            "\u001b[34m\u001b[1mval: \u001b[0mNew cache created: /content/datasets/coco/val2017.cache\n",
            "               Class     Images     Labels          P          R     mAP@.5 mAP@.5:.95: 100% 157/157 [00:58<00:00,  2.70it/s]\n",
            "                 all       5000      36335      0.743      0.626      0.683      0.496\n",
            "Speed: 0.1ms pre-process, 4.8ms inference, 1.2ms NMS per image at shape (32, 3, 640, 640)\n",
            "\n",
            "Evaluating pycocotools mAP... saving runs/val/exp/yolov5x_predictions.json...\n",
            "loading annotations into memory...\n",
            "Done (t=0.38s)\n",
            "creating index...\n",
            "index created!\n",
            "Loading and preparing results...\n",
            "DONE (t=5.42s)\n",
            "creating index...\n",
            "index created!\n",
            "Running per image evaluation...\n",
            "Evaluate annotation type *bbox*\n",
            "DONE (t=72.67s).\n",
            "Accumulating evaluation results...\n",
            "DONE (t=13.48s).\n",
            " Average Precision  (AP) @[ IoU=0.50:0.95 | area=   all | maxDets=100 ] = 0.506\n",
            " Average Precision  (AP) @[ IoU=0.50      | area=   all | maxDets=100 ] = 0.688\n",
            " Average Precision  (AP) @[ IoU=0.75      | area=   all | maxDets=100 ] = 0.549\n",
            " Average Precision  (AP) @[ IoU=0.50:0.95 | area= small | maxDets=100 ] = 0.340\n",
            " Average Precision  (AP) @[ IoU=0.50:0.95 | area=medium | maxDets=100 ] = 0.557\n",
            " Average Precision  (AP) @[ IoU=0.50:0.95 | area= large | maxDets=100 ] = 0.651\n",
            " Average Recall     (AR) @[ IoU=0.50:0.95 | area=   all | maxDets=  1 ] = 0.382\n",
            " Average Recall     (AR) @[ IoU=0.50:0.95 | area=   all | maxDets= 10 ] = 0.631\n",
            " Average Recall     (AR) @[ IoU=0.50:0.95 | area=   all | maxDets=100 ] = 0.684\n",
            " Average Recall     (AR) @[ IoU=0.50:0.95 | area= small | maxDets=100 ] = 0.528\n",
            " Average Recall     (AR) @[ IoU=0.50:0.95 | area=medium | maxDets=100 ] = 0.737\n",
            " Average Recall     (AR) @[ IoU=0.50:0.95 | area= large | maxDets=100 ] = 0.833\n",
            "Results saved to \u001b[1mruns/val/exp\u001b[0m\n"
          ]
        }
      ],
      "source": [
        "# Run YOLOv5x on COCO val\n",
        "!python val.py --weights yolov5x.pt --data coco.yaml --img 640 --iou 0.65 --half"
      ]
    },
    {
      "cell_type": "markdown",
      "metadata": {
        "id": "rc_KbFk0juX2"
      },
      "source": [
        "## COCO test\n",
        "Download [COCO test2017](https://github.com/ultralytics/yolov5/blob/74b34872fdf41941cddcf243951cdb090fbac17b/data/coco.yaml#L15) dataset (7GB - 40,000 images), to test model accuracy on test-dev set (**20,000 images, no labels**). Results are saved to a `*.json` file which should be **zipped** and submitted to the evaluation server at https://competitions.codalab.org/competitions/20794."
      ]
    },
    {
      "cell_type": "code",
      "execution_count": null,
      "metadata": {
        "id": "V0AJnSeCIHyJ"
      },
      "outputs": [],
      "source": [
        "# Download COCO test-dev2017\n",
        "torch.hub.download_url_to_file('https://ultralytics.com/assets/coco2017labels.zip', 'tmp.zip')\n",
        "!unzip -q tmp.zip -d ../datasets && rm tmp.zip\n",
        "!f=\"test2017.zip\" && curl http://images.cocodataset.org/zips/$f -o $f && unzip -q $f -d ../datasets/coco/images"
      ]
    },
    {
      "cell_type": "code",
      "execution_count": null,
      "metadata": {
        "id": "29GJXAP_lPrt"
      },
      "outputs": [],
      "source": [
        "# Run YOLOv5x on COCO test\n",
        "!python val.py --weights yolov5x.pt --data coco.yaml --img 640 --iou 0.65 --half --task test"
      ]
    },
    {
      "cell_type": "markdown",
      "metadata": {
        "id": "15glLzbQx5u0"
      },
      "source": [
        "# 4. Visualize"
      ]
    },
    {
      "cell_type": "markdown",
      "metadata": {
        "id": "DLI1JmHU7B0l"
      },
      "source": [
        "## Weights & Biases Logging 🌟 NEW\n",
        "\n",
        "[Weights & Biases](https://wandb.ai/site?utm_campaign=repo_yolo_notebook) (W&B) is now integrated with YOLOv5 for real-time visualization and cloud logging of training runs. This allows for better run comparison and introspection, as well improved visibility and collaboration for teams. To enable W&B `pip install wandb`, and then train normally (you will be guided through setup on first use). \n",
        "\n",
        "During training you will see live updates at [https://wandb.ai/home](https://wandb.ai/home?utm_campaign=repo_yolo_notebook), and you can create and share detailed [Reports](https://wandb.ai/glenn-jocher/yolov5_tutorial/reports/YOLOv5-COCO128-Tutorial-Results--VmlldzozMDI5OTY) of your results. For more information see the [YOLOv5 Weights & Biases Tutorial](https://github.com/ultralytics/yolov5/issues/1289). \n",
        "\n",
        "<p align=\"left\"><img width=\"900\" alt=\"Weights & Biases dashboard\" src=\"https://user-images.githubusercontent.com/26833433/135390767-c28b050f-8455-4004-adb0-3b730386e2b2.png\"></p>"
      ]
    },
    {
      "cell_type": "markdown",
      "metadata": {
        "id": "-WPvRbS5Swl6"
      },
      "source": [
        "## Local Logging\n",
        "\n",
        "All results are logged by default to `runs/train`, with a new experiment directory created for each new training as `runs/train/exp2`, `runs/train/exp3`, etc. View train and val jpgs to see mosaics, labels, predictions and augmentation effects. Note an Ultralytics **Mosaic Dataloader** is used for training (shown below), which combines 4 images into 1 mosaic during training.\n",
        "\n",
        "> <img src=\"https://user-images.githubusercontent.com/26833433/131255960-b536647f-7c61-4f60-bbc5-cb2544d71b2a.jpg\" width=\"700\">  \n",
        "`train_batch0.jpg` shows train batch 0 mosaics and labels\n",
        "\n",
        "> <img src=\"https://user-images.githubusercontent.com/26833433/131256748-603cafc7-55d1-4e58-ab26-83657761aed9.jpg\" width=\"700\">  \n",
        "`test_batch0_labels.jpg` shows val batch 0 labels\n",
        "\n",
        "> <img src=\"https://user-images.githubusercontent.com/26833433/131256752-3f25d7a5-7b0f-4bb3-ab78-46343c3800fe.jpg\" width=\"700\">  \n",
        "`test_batch0_pred.jpg` shows val batch 0 _predictions_\n",
        "\n",
        "Training results are automatically logged to [Tensorboard](https://www.tensorflow.org/tensorboard) and [CSV](https://github.com/ultralytics/yolov5/pull/4148) as `results.csv`, which is plotted as `results.png` (below) after training completes. You can also plot any `results.csv` file manually:\n",
        "\n",
        "```python\n",
        "from utils.plots import plot_results \n",
        "plot_results('path/to/results.csv')  # plot 'results.csv' as 'results.png'\n",
        "```\n",
        "\n",
        "<img align=\"left\" width=\"800\" alt=\"COCO128 Training Results\" src=\"https://user-images.githubusercontent.com/26833433/126906780-8c5e2990-6116-4de6-b78a-367244a33ccf.png\">"
      ]
    },
    {
      "cell_type": "markdown",
      "metadata": {
        "id": "Zelyeqbyt3GD"
      },
      "source": [
        "# Environments\n",
        "\n",
        "YOLOv5 may be run in any of the following up-to-date verified environments (with all dependencies including [CUDA](https://developer.nvidia.com/cuda)/[CUDNN](https://developer.nvidia.com/cudnn), [Python](https://www.python.org/) and [PyTorch](https://pytorch.org/) preinstalled):\n",
        "\n",
        "- **Google Colab and Kaggle** notebooks with free GPU: <a href=\"https://colab.research.google.com/github/ultralytics/yolov5/blob/master/tutorial.ipynb\"><img src=\"https://colab.research.google.com/assets/colab-badge.svg\" alt=\"Open In Colab\"></a> <a href=\"https://www.kaggle.com/ultralytics/yolov5\"><img src=\"https://kaggle.com/static/images/open-in-kaggle.svg\" alt=\"Open In Kaggle\"></a>\n",
        "- **Google Cloud** Deep Learning VM. See [GCP Quickstart Guide](https://github.com/ultralytics/yolov5/wiki/GCP-Quickstart)\n",
        "- **Amazon** Deep Learning AMI. See [AWS Quickstart Guide](https://github.com/ultralytics/yolov5/wiki/AWS-Quickstart)\n",
        "- **Docker Image**. See [Docker Quickstart Guide](https://github.com/ultralytics/yolov5/wiki/Docker-Quickstart) <a href=\"https://hub.docker.com/r/ultralytics/yolov5\"><img src=\"https://img.shields.io/docker/pulls/ultralytics/yolov5?logo=docker\" alt=\"Docker Pulls\"></a>\n"
      ]
    },
    {
      "cell_type": "markdown",
      "metadata": {
        "id": "6Qu7Iesl0p54"
      },
      "source": [
        "# Status\n",
        "\n",
        "![CI CPU testing](https://github.com/ultralytics/yolov5/workflows/CI%20CPU%20testing/badge.svg)\n",
        "\n",
        "If this badge is green, all [YOLOv5 GitHub Actions](https://github.com/ultralytics/yolov5/actions) Continuous Integration (CI) tests are currently passing. CI tests verify correct operation of YOLOv5 training ([train.py](https://github.com/ultralytics/yolov5/blob/master/train.py)), testing ([val.py](https://github.com/ultralytics/yolov5/blob/master/val.py)), inference ([detect.py](https://github.com/ultralytics/yolov5/blob/master/detect.py)) and export ([export.py](https://github.com/ultralytics/yolov5/blob/master/export.py)) on macOS, Windows, and Ubuntu every 24 hours and on every commit.\n"
      ]
    },
    {
      "cell_type": "markdown",
      "metadata": {
        "id": "IEijrePND_2I"
      },
      "source": [
        "# Appendix\n",
        "\n",
        "Optional extras below. Unit tests validate repo functionality and should be run on any PRs submitted.\n"
      ]
    },
    {
      "cell_type": "code",
      "execution_count": null,
      "metadata": {
        "id": "mcKoSIK2WSzj"
      },
      "outputs": [],
      "source": [
        "# Reproduce\n",
        "for x in 'yolov5n', 'yolov5s', 'yolov5m', 'yolov5l', 'yolov5x':\n",
        "  !python val.py --weights {x}.pt --data coco.yaml --img 640 --task speed  # speed\n",
        "  !python val.py --weights {x}.pt --data coco.yaml --img 640 --conf 0.001 --iou 0.65  # mAP"
      ]
    },
    {
      "cell_type": "code",
      "execution_count": null,
      "metadata": {
        "id": "GMusP4OAxFu6"
      },
      "outputs": [],
      "source": [
        "# PyTorch Hub\n",
        "import torch\n",
        "\n",
        "# Model\n",
        "model = torch.hub.load('ultralytics/yolov5', 'yolov5s')\n",
        "\n",
        "# Images\n",
        "dir = 'https://ultralytics.com/images/'\n",
        "imgs = [dir + f for f in ('zidane.jpg', 'bus.jpg')]  # batch of images\n",
        "\n",
        "# Inference\n",
        "results = model(imgs)\n",
        "results.print()  # or .show(), .save()"
      ]
    },
    {
      "cell_type": "code",
      "execution_count": null,
      "metadata": {
        "id": "FGH0ZjkGjejy"
      },
      "outputs": [],
      "source": [
        "# CI Checks\n",
        "%%shell\n",
        "export PYTHONPATH=\"$PWD\"  # to run *.py. files in subdirectories\n",
        "rm -rf runs  # remove runs/\n",
        "for m in yolov5n; do  # models\n",
        "  python train.py --img 64 --batch 32 --weights $m.pt --epochs 1 --device 0  # train pretrained\n",
        "  python train.py --img 64 --batch 32 --weights '' --cfg $m.yaml --epochs 1 --device 0  # train scratch\n",
        "  for d in 0 cpu; do  # devices\n",
        "    python val.py --weights $m.pt --device $d # val official\n",
        "    python val.py --weights runs/train/exp/weights/best.pt --device $d # val custom\n",
        "    python detect.py --weights $m.pt --device $d  # detect official\n",
        "    python detect.py --weights runs/train/exp/weights/best.pt --device $d  # detect custom\n",
        "  done\n",
        "  python hubconf.py  # hub\n",
        "  python models/yolo.py --cfg $m.yaml  # build PyTorch model\n",
        "  python models/tf.py --weights $m.pt  # build TensorFlow model\n",
        "  python export.py --img 64 --batch 1 --weights $m.pt --include torchscript onnx  # export\n",
        "done"
      ]
    },
    {
      "cell_type": "code",
      "execution_count": null,
      "metadata": {
        "id": "gogI-kwi3Tye"
      },
      "outputs": [],
      "source": [
        "# Profile\n",
        "from utils.torch_utils import profile\n",
        "\n",
        "m1 = lambda x: x * torch.sigmoid(x)\n",
        "m2 = torch.nn.SiLU()\n",
        "results = profile(input=torch.randn(16, 3, 640, 640), ops=[m1, m2], n=100)"
      ]
    },
    {
      "cell_type": "code",
      "execution_count": null,
      "metadata": {
        "id": "RVRSOhEvUdb5"
      },
      "outputs": [],
      "source": [
        "# Evolve\n",
        "!python train.py --img 640 --batch 64 --epochs 100 --data coco128.yaml --weights yolov5s.pt --cache --noautoanchor --evolve\n",
        "!d=runs/train/evolve && cp evolve.* $d && zip -r evolve.zip $d && gsutil mv evolve.zip gs://bucket  # upload results (optional)"
      ]
    },
    {
      "cell_type": "code",
      "execution_count": null,
      "metadata": {
        "id": "BSgFCAcMbk1R"
      },
      "outputs": [],
      "source": [
        "# VOC\n",
        "for b, m in zip([64, 64, 64, 32, 16], ['yolov5n', 'yolov5s', 'yolov5m', 'yolov5l', 'yolov5x']):  # batch, model\n",
        "  !python train.py --batch {b} --weights {m}.pt --data VOC.yaml --epochs 50 --img 512 --hyp hyp.VOC.yaml --project VOC --name {m} --cache"
      ]
    },
    {
      "cell_type": "code",
      "execution_count": null,
      "metadata": {
        "id": "VTRwsvA9u7ln"
      },
      "outputs": [],
      "source": [
        "# TensorRT \n",
        "# https://docs.nvidia.com/deeplearning/tensorrt/install-guide/index.html#installing-pip\n",
        "!pip install -U nvidia-tensorrt --index-url https://pypi.ngc.nvidia.com  # install\n",
        "!python export.py --weights yolov5s.pt --include engine --imgsz 640 640 --device 0  # export\n",
        "!python detect.py --weights yolov5s.engine --imgsz 640 640 --device 0  # inference"
      ]
    },
    {
      "cell_type": "code",
      "execution_count": null,
      "metadata": {
        "colab": {
          "base_uri": "https://localhost:8080/",
          "height": 17
        },
        "id": "BGpnyh9wzS5W",
        "outputId": "6bbbbb8b-ccb0-4361-c75e-a1533f8797cc"
      },
      "outputs": [
        {
          "data": {
            "application/javascript": "\n    async function download(id, filename, size) {\n      if (!google.colab.kernel.accessAllowed) {\n        return;\n      }\n      const div = document.createElement('div');\n      const label = document.createElement('label');\n      label.textContent = `Downloading \"${filename}\": `;\n      div.appendChild(label);\n      const progress = document.createElement('progress');\n      progress.max = size;\n      div.appendChild(progress);\n      document.body.appendChild(div);\n\n      const buffers = [];\n      let downloaded = 0;\n\n      const channel = await google.colab.kernel.comms.open(id);\n      // Send a message to notify the kernel that we're ready.\n      channel.send({})\n\n      for await (const message of channel.messages) {\n        // Send a message to notify the kernel that we're ready.\n        channel.send({})\n        if (message.buffers) {\n          for (const buffer of message.buffers) {\n            buffers.push(buffer);\n            downloaded += buffer.byteLength;\n            progress.value = downloaded;\n          }\n        }\n      }\n      const blob = new Blob(buffers, {type: 'application/binary'});\n      const a = document.createElement('a');\n      a.href = window.URL.createObjectURL(blob);\n      a.download = filename;\n      div.appendChild(a);\n      a.click();\n      div.remove();\n    }\n  ",
            "text/plain": [
              "<IPython.core.display.Javascript object>"
            ]
          },
          "metadata": {},
          "output_type": "display_data"
        },
        {
          "data": {
            "application/javascript": "download(\"download_cd89bb15-06e0-4204-ac7f-c6f6069a9da9\", \"custom_lego_dataset.ipynb\", 42415)",
            "text/plain": [
              "<IPython.core.display.Javascript object>"
            ]
          },
          "metadata": {},
          "output_type": "display_data"
        }
      ],
      "source": [
        "from google.colab import files\n",
        "files.download('custom_lego_dataset.ipynb') "
      ]
    }
  ],
  "metadata": {
    "accelerator": "GPU",
    "colab": {
      "collapsed_sections": [],
      "machine_shape": "hm",
      "name": "Copy of YOLOv5 Tutorial",
      "provenance": []
    },
    "kernelspec": {
      "display_name": "Python 3.8.5 ('base')",
      "language": "python",
      "name": "python3"
    },
    "language_info": {
      "name": "python",
      "version": "3.8.5"
    },
    "vscode": {
      "interpreter": {
        "hash": "e767f5acd016b35a29906fd50545c635028bae29b05443a8f3cbde4b11834c0c"
      }
    },
    "widgets": {
      "application/vnd.jupyter.widget-state+json": {
        "11415bab172a4904b73e29ff60f6fce1": {
          "model_module": "@jupyter-widgets/controls",
          "model_module_version": "1.5.0",
          "model_name": "ProgressStyleModel",
          "state": {
            "_model_module": "@jupyter-widgets/controls",
            "_model_module_version": "1.5.0",
            "_model_name": "ProgressStyleModel",
            "_view_count": null,
            "_view_module": "@jupyter-widgets/base",
            "_view_module_version": "1.2.0",
            "_view_name": "StyleView",
            "bar_color": null,
            "description_width": ""
          }
        },
        "3cef138c5f7743858bb0f87b65dd3c76": {
          "model_module": "@jupyter-widgets/controls",
          "model_module_version": "1.5.0",
          "model_name": "DescriptionStyleModel",
          "state": {
            "_model_module": "@jupyter-widgets/controls",
            "_model_module_version": "1.5.0",
            "_model_name": "DescriptionStyleModel",
            "_view_count": null,
            "_view_module": "@jupyter-widgets/base",
            "_view_module_version": "1.2.0",
            "_view_name": "StyleView",
            "description_width": ""
          }
        },
        "520e5b7e80eb450188261cffbc574d25": {
          "model_module": "@jupyter-widgets/base",
          "model_module_version": "1.2.0",
          "model_name": "LayoutModel",
          "state": {
            "_model_module": "@jupyter-widgets/base",
            "_model_module_version": "1.2.0",
            "_model_name": "LayoutModel",
            "_view_count": null,
            "_view_module": "@jupyter-widgets/base",
            "_view_module_version": "1.2.0",
            "_view_name": "LayoutView",
            "align_content": null,
            "align_items": null,
            "align_self": null,
            "border": null,
            "bottom": null,
            "display": null,
            "flex": null,
            "flex_flow": null,
            "grid_area": null,
            "grid_auto_columns": null,
            "grid_auto_flow": null,
            "grid_auto_rows": null,
            "grid_column": null,
            "grid_gap": null,
            "grid_row": null,
            "grid_template_areas": null,
            "grid_template_columns": null,
            "grid_template_rows": null,
            "height": null,
            "justify_content": null,
            "justify_items": null,
            "left": null,
            "margin": null,
            "max_height": null,
            "max_width": null,
            "min_height": null,
            "min_width": null,
            "object_fit": null,
            "object_position": null,
            "order": null,
            "overflow": null,
            "overflow_x": null,
            "overflow_y": null,
            "padding": null,
            "right": null,
            "top": null,
            "visibility": null,
            "width": null
          }
        },
        "5dd95d3eda8b49f7910620edcdcbdcdc": {
          "model_module": "@jupyter-widgets/base",
          "model_module_version": "1.2.0",
          "model_name": "LayoutModel",
          "state": {
            "_model_module": "@jupyter-widgets/base",
            "_model_module_version": "1.2.0",
            "_model_name": "LayoutModel",
            "_view_count": null,
            "_view_module": "@jupyter-widgets/base",
            "_view_module_version": "1.2.0",
            "_view_name": "LayoutView",
            "align_content": null,
            "align_items": null,
            "align_self": null,
            "border": null,
            "bottom": null,
            "display": null,
            "flex": null,
            "flex_flow": null,
            "grid_area": null,
            "grid_auto_columns": null,
            "grid_auto_flow": null,
            "grid_auto_rows": null,
            "grid_column": null,
            "grid_gap": null,
            "grid_row": null,
            "grid_template_areas": null,
            "grid_template_columns": null,
            "grid_template_rows": null,
            "height": null,
            "justify_content": null,
            "justify_items": null,
            "left": null,
            "margin": null,
            "max_height": null,
            "max_width": null,
            "min_height": null,
            "min_width": null,
            "object_fit": null,
            "object_position": null,
            "order": null,
            "overflow": null,
            "overflow_x": null,
            "overflow_y": null,
            "padding": null,
            "right": null,
            "top": null,
            "visibility": null,
            "width": null
          }
        },
        "8c2d91f564de45f8a403386eeeccac27": {
          "model_module": "@jupyter-widgets/controls",
          "model_module_version": "1.5.0",
          "model_name": "HTMLModel",
          "state": {
            "_dom_classes": [],
            "_model_module": "@jupyter-widgets/controls",
            "_model_module_version": "1.5.0",
            "_model_name": "HTMLModel",
            "_view_count": null,
            "_view_module": "@jupyter-widgets/controls",
            "_view_module_version": "1.5.0",
            "_view_name": "HTMLView",
            "description": "",
            "description_tooltip": null,
            "layout": "IPY_MODEL_eac18040908042dbae67a47d23e95b47",
            "placeholder": "​",
            "style": "IPY_MODEL_e0fc1d6eb478469c9098aa9518d7b358",
            "value": " 780M/780M [01:17&lt;00:00, 17.7MB/s]"
          }
        },
        "8f4ffda703ac4348ab7edf1d12a188e1": {
          "model_module": "@jupyter-widgets/controls",
          "model_module_version": "1.5.0",
          "model_name": "FloatProgressModel",
          "state": {
            "_dom_classes": [],
            "_model_module": "@jupyter-widgets/controls",
            "_model_module_version": "1.5.0",
            "_model_name": "FloatProgressModel",
            "_view_count": null,
            "_view_module": "@jupyter-widgets/controls",
            "_view_module_version": "1.5.0",
            "_view_name": "ProgressView",
            "bar_style": "success",
            "description": "",
            "description_tooltip": null,
            "layout": "IPY_MODEL_c3782c6dda80400ba7f8c5345624bf87",
            "max": 818322941,
            "min": 0,
            "orientation": "horizontal",
            "style": "IPY_MODEL_11415bab172a4904b73e29ff60f6fce1",
            "value": 818322941
          }
        },
        "c3782c6dda80400ba7f8c5345624bf87": {
          "model_module": "@jupyter-widgets/base",
          "model_module_version": "1.2.0",
          "model_name": "LayoutModel",
          "state": {
            "_model_module": "@jupyter-widgets/base",
            "_model_module_version": "1.2.0",
            "_model_name": "LayoutModel",
            "_view_count": null,
            "_view_module": "@jupyter-widgets/base",
            "_view_module_version": "1.2.0",
            "_view_name": "LayoutView",
            "align_content": null,
            "align_items": null,
            "align_self": null,
            "border": null,
            "bottom": null,
            "display": null,
            "flex": null,
            "flex_flow": null,
            "grid_area": null,
            "grid_auto_columns": null,
            "grid_auto_flow": null,
            "grid_auto_rows": null,
            "grid_column": null,
            "grid_gap": null,
            "grid_row": null,
            "grid_template_areas": null,
            "grid_template_columns": null,
            "grid_template_rows": null,
            "height": null,
            "justify_content": null,
            "justify_items": null,
            "left": null,
            "margin": null,
            "max_height": null,
            "max_width": null,
            "min_height": null,
            "min_width": null,
            "object_fit": null,
            "object_position": null,
            "order": null,
            "overflow": null,
            "overflow_x": null,
            "overflow_y": null,
            "padding": null,
            "right": null,
            "top": null,
            "visibility": null,
            "width": null
          }
        },
        "d90eeb56398f458086e3b2b41dbd9fec": {
          "model_module": "@jupyter-widgets/controls",
          "model_module_version": "1.5.0",
          "model_name": "HBoxModel",
          "state": {
            "_dom_classes": [],
            "_model_module": "@jupyter-widgets/controls",
            "_model_module_version": "1.5.0",
            "_model_name": "HBoxModel",
            "_view_count": null,
            "_view_module": "@jupyter-widgets/controls",
            "_view_module_version": "1.5.0",
            "_view_name": "HBoxView",
            "box_style": "",
            "children": [
              "IPY_MODEL_d91d8347f17349a4987cea29eac0a49c",
              "IPY_MODEL_8f4ffda703ac4348ab7edf1d12a188e1",
              "IPY_MODEL_8c2d91f564de45f8a403386eeeccac27"
            ],
            "layout": "IPY_MODEL_5dd95d3eda8b49f7910620edcdcbdcdc"
          }
        },
        "d91d8347f17349a4987cea29eac0a49c": {
          "model_module": "@jupyter-widgets/controls",
          "model_module_version": "1.5.0",
          "model_name": "HTMLModel",
          "state": {
            "_dom_classes": [],
            "_model_module": "@jupyter-widgets/controls",
            "_model_module_version": "1.5.0",
            "_model_name": "HTMLModel",
            "_view_count": null,
            "_view_module": "@jupyter-widgets/controls",
            "_view_module_version": "1.5.0",
            "_view_name": "HTMLView",
            "description": "",
            "description_tooltip": null,
            "layout": "IPY_MODEL_520e5b7e80eb450188261cffbc574d25",
            "placeholder": "​",
            "style": "IPY_MODEL_3cef138c5f7743858bb0f87b65dd3c76",
            "value": "100%"
          }
        },
        "e0fc1d6eb478469c9098aa9518d7b358": {
          "model_module": "@jupyter-widgets/controls",
          "model_module_version": "1.5.0",
          "model_name": "DescriptionStyleModel",
          "state": {
            "_model_module": "@jupyter-widgets/controls",
            "_model_module_version": "1.5.0",
            "_model_name": "DescriptionStyleModel",
            "_view_count": null,
            "_view_module": "@jupyter-widgets/base",
            "_view_module_version": "1.2.0",
            "_view_name": "StyleView",
            "description_width": ""
          }
        },
        "eac18040908042dbae67a47d23e95b47": {
          "model_module": "@jupyter-widgets/base",
          "model_module_version": "1.2.0",
          "model_name": "LayoutModel",
          "state": {
            "_model_module": "@jupyter-widgets/base",
            "_model_module_version": "1.2.0",
            "_model_name": "LayoutModel",
            "_view_count": null,
            "_view_module": "@jupyter-widgets/base",
            "_view_module_version": "1.2.0",
            "_view_name": "LayoutView",
            "align_content": null,
            "align_items": null,
            "align_self": null,
            "border": null,
            "bottom": null,
            "display": null,
            "flex": null,
            "flex_flow": null,
            "grid_area": null,
            "grid_auto_columns": null,
            "grid_auto_flow": null,
            "grid_auto_rows": null,
            "grid_column": null,
            "grid_gap": null,
            "grid_row": null,
            "grid_template_areas": null,
            "grid_template_columns": null,
            "grid_template_rows": null,
            "height": null,
            "justify_content": null,
            "justify_items": null,
            "left": null,
            "margin": null,
            "max_height": null,
            "max_width": null,
            "min_height": null,
            "min_width": null,
            "object_fit": null,
            "object_position": null,
            "order": null,
            "overflow": null,
            "overflow_x": null,
            "overflow_y": null,
            "padding": null,
            "right": null,
            "top": null,
            "visibility": null,
            "width": null
          }
        }
      }
    }
  },
  "nbformat": 4,
  "nbformat_minor": 0
}
